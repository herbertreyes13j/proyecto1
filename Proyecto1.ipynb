{
 "cells": [
  {
   "attachments": {},
   "cell_type": "markdown",
   "id": "9b0198cf",
   "metadata": {},
   "source": [
    "### Herbert Rafael Reyes Portillo\n",
    "### Carnet: 23002116\n",
    "\n",
    "# Proyecto 1"
   ]
  },
  {
   "attachments": {},
   "cell_type": "markdown",
   "id": "dac20613",
   "metadata": {},
   "source": [
    "### Numero 1\n",
    "Crear un entorno de anaconda con los paquetes que considere necesarios"
   ]
  },
  {
   "cell_type": "code",
   "execution_count": 50,
   "id": "df8c8b7d",
   "metadata": {},
   "outputs": [],
   "source": [
    "import numpy as np\n",
    "import pandas as pd"
   ]
  },
  {
   "attachments": {},
   "cell_type": "markdown",
   "id": "6b3d0f42",
   "metadata": {},
   "source": [
    "### Numero 2\n",
    "Usando sclicing con NumPy separar los datos en 2 datasets: entrenamiento(80 %) y validacion y pruebas(20 %)."
   ]
  },
  {
   "cell_type": "code",
   "execution_count": 49,
   "id": "2c39389a",
   "metadata": {},
   "outputs": [],
   "source": [
    "data = np.array(np.load('./Datos/proyecto_training_data.npy'))\n",
    "dfbase= pd.DataFrame(data,columns=['SalePrice','OverallQual','1stFlrSF','TotRmsAbvGrd','YearBuilt','LotFrontage'])\n",
    "entrenamiento=dfbase.iloc[0:1168]\n",
    "base = dfbase.iloc[1168:1460]\n"
   ]
  },
  {
   "attachments": {},
   "cell_type": "markdown",
   "id": "02f89b71",
   "metadata": {},
   "source": [
    "### Numero 3\n",
    "\n",
    "Analisis exploratorio de datos: Para cada variable en el dataset calcular:\n",
    "\n",
    "- media\n",
    "- valor maximo\n",
    "- valor mnimo\n",
    "- rango(peak to peak, no el rango del tensor que por ser vector sabemos que es 1)\n",
    "- desviacion estandar.\n"
   ]
  },
  {
   "cell_type": "code",
   "execution_count": 63,
   "id": "932554cc",
   "metadata": {},
   "outputs": [],
   "source": [
    "media = entrenamiento.mean()\n",
    "valor_max= entrenamiento.max()\n",
    "valor_min= entrenamiento.min()\n",
    "rango = valor_max - valor_min\n",
    "desviacion_estandar= entrenamiento.std()\n"
   ]
  },
  {
   "attachments": {},
   "cell_type": "markdown",
   "id": "8c22c85b",
   "metadata": {},
   "source": [
    "##### MEDIA"
   ]
  },
  {
   "cell_type": "code",
   "execution_count": 58,
   "id": "5a4a3571",
   "metadata": {},
   "outputs": [
    {
     "name": "stdout",
     "output_type": "stream",
     "text": [
      "SalePrice       180590.277397\n",
      "OverallQual          6.101027\n",
      "1stFlrSF          1156.323630\n",
      "TotRmsAbvGrd         6.485445\n",
      "YearBuilt         1971.451199\n",
      "LotFrontage         69.946985\n",
      "dtype: float64\n"
     ]
    }
   ],
   "source": [
    "print(media)"
   ]
  },
  {
   "attachments": {},
   "cell_type": "markdown",
   "id": "07c89364",
   "metadata": {},
   "source": [
    "##### VALOR MAXIMO"
   ]
  },
  {
   "cell_type": "code",
   "execution_count": 59,
   "id": "e18df201",
   "metadata": {},
   "outputs": [
    {
     "name": "stdout",
     "output_type": "stream",
     "text": [
      "SalePrice       755000.0\n",
      "OverallQual         10.0\n",
      "1stFlrSF          3228.0\n",
      "TotRmsAbvGrd        14.0\n",
      "YearBuilt         2010.0\n",
      "LotFrontage        313.0\n",
      "dtype: float64\n"
     ]
    }
   ],
   "source": [
    "print(valor_max)"
   ]
  },
  {
   "attachments": {},
   "cell_type": "markdown",
   "id": "b2b5d2a8",
   "metadata": {},
   "source": [
    "##### VALOR MINIMO\n"
   ]
  },
  {
   "cell_type": "code",
   "execution_count": 60,
   "id": "9e3e7162",
   "metadata": {},
   "outputs": [
    {
     "name": "stdout",
     "output_type": "stream",
     "text": [
      "SalePrice       34900.0\n",
      "OverallQual         1.0\n",
      "1stFlrSF          334.0\n",
      "TotRmsAbvGrd        2.0\n",
      "YearBuilt        1875.0\n",
      "LotFrontage        21.0\n",
      "dtype: float64\n"
     ]
    }
   ],
   "source": [
    "print(valor_min)"
   ]
  },
  {
   "attachments": {},
   "cell_type": "markdown",
   "id": "07868cd5",
   "metadata": {},
   "source": [
    "##### RANGO PTP"
   ]
  },
  {
   "cell_type": "code",
   "execution_count": 61,
   "id": "88a45db0",
   "metadata": {},
   "outputs": [
    {
     "name": "stdout",
     "output_type": "stream",
     "text": [
      "SalePrice       720100.0\n",
      "OverallQual          9.0\n",
      "1stFlrSF          2894.0\n",
      "TotRmsAbvGrd        12.0\n",
      "YearBuilt          135.0\n",
      "LotFrontage        292.0\n",
      "dtype: float64\n"
     ]
    }
   ],
   "source": [
    "print(rango)"
   ]
  },
  {
   "attachments": {},
   "cell_type": "markdown",
   "id": "26583200",
   "metadata": {},
   "source": [
    "##### DESVIACION ESTANDAR"
   ]
  },
  {
   "cell_type": "code",
   "execution_count": 62,
   "id": "23877d5d",
   "metadata": {},
   "outputs": [
    {
     "name": "stdout",
     "output_type": "stream",
     "text": [
      "SalePrice       78815.697902\n",
      "OverallQual         1.378025\n",
      "1stFlrSF          373.780374\n",
      "TotRmsAbvGrd        1.609141\n",
      "YearBuilt          29.951707\n",
      "LotFrontage        23.478161\n",
      "dtype: float64\n"
     ]
    }
   ],
   "source": [
    "print(desviacion_estandar)"
   ]
  }
 ],
 "metadata": {
  "kernelspec": {
   "display_name": "Python 3 (ipykernel)",
   "language": "python",
   "name": "python3"
  },
  "language_info": {
   "codemirror_mode": {
    "name": "ipython",
    "version": 3
   },
   "file_extension": ".py",
   "mimetype": "text/x-python",
   "name": "python",
   "nbconvert_exporter": "python",
   "pygments_lexer": "ipython3",
   "version": "3.7.16"
  }
 },
 "nbformat": 4,
 "nbformat_minor": 5
}
