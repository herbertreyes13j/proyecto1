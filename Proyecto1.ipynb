{
 "cells": [
  {
   "attachments": {},
   "cell_type": "markdown",
   "id": "9b0198cf",
   "metadata": {},
   "source": [
    "### Herbert Rafael Reyes Portillo\n",
    "### Carnet: 23002116\n",
    "\n",
    "# Proyecto 1"
   ]
  },
  {
   "attachments": {},
   "cell_type": "markdown",
   "id": "dac20613",
   "metadata": {},
   "source": [
    "### Numero 1\n",
    "Crear un entorno de anaconda con los paquetes que considere necesarios"
   ]
  },
  {
   "cell_type": "code",
   "execution_count": 88,
   "id": "df8c8b7d",
   "metadata": {},
   "outputs": [],
   "source": [
    "import numpy as np\n",
    "import pandas as pd\n",
    "import seaborn as sb\n",
    "import matplotlib.pyplot as plt"
   ]
  },
  {
   "attachments": {},
   "cell_type": "markdown",
   "id": "6b3d0f42",
   "metadata": {},
   "source": [
    "### Numero 2\n",
    "Usando sclicing con NumPy separar los datos en 2 datasets: entrenamiento(80 %) y validacion y pruebas(20 %)."
   ]
  },
  {
   "cell_type": "code",
   "execution_count": 49,
   "id": "2c39389a",
   "metadata": {},
   "outputs": [],
   "source": [
    "data = np.array(np.load('./Datos/proyecto_training_data.npy'))\n",
    "dfbase= pd.DataFrame(data,columns=['SalePrice','OverallQual','1stFlrSF','TotRmsAbvGrd','YearBuilt','LotFrontage'])\n",
    "entrenamiento=dfbase.iloc[0:1168]\n",
    "base = dfbase.iloc[1168:1460]\n"
   ]
  },
  {
   "attachments": {},
   "cell_type": "markdown",
   "id": "02f89b71",
   "metadata": {},
   "source": [
    "### Numero 3\n",
    "\n",
    "Analisis exploratorio de datos: Para cada variable en el dataset calcular:\n",
    "\n",
    "- media\n",
    "- valor maximo\n",
    "- valor mnimo\n",
    "- rango(peak to peak, no el rango del tensor que por ser vector sabemos que es 1)\n",
    "- desviacion estandar.\n"
   ]
  },
  {
   "cell_type": "code",
   "execution_count": 63,
   "id": "932554cc",
   "metadata": {},
   "outputs": [],
   "source": [
    "media = entrenamiento.mean()\n",
    "valor_max= entrenamiento.max()\n",
    "valor_min= entrenamiento.min()\n",
    "rango = valor_max - valor_min\n",
    "desviacion_estandar= entrenamiento.std()\n"
   ]
  },
  {
   "attachments": {},
   "cell_type": "markdown",
   "id": "8c22c85b",
   "metadata": {},
   "source": [
    "##### MEDIA"
   ]
  },
  {
   "cell_type": "code",
   "execution_count": 58,
   "id": "5a4a3571",
   "metadata": {},
   "outputs": [
    {
     "name": "stdout",
     "output_type": "stream",
     "text": [
      "SalePrice       180590.277397\n",
      "OverallQual          6.101027\n",
      "1stFlrSF          1156.323630\n",
      "TotRmsAbvGrd         6.485445\n",
      "YearBuilt         1971.451199\n",
      "LotFrontage         69.946985\n",
      "dtype: float64\n"
     ]
    }
   ],
   "source": [
    "print(media)"
   ]
  },
  {
   "attachments": {},
   "cell_type": "markdown",
   "id": "07c89364",
   "metadata": {},
   "source": [
    "##### VALOR MAXIMO"
   ]
  },
  {
   "cell_type": "code",
   "execution_count": 59,
   "id": "e18df201",
   "metadata": {},
   "outputs": [
    {
     "name": "stdout",
     "output_type": "stream",
     "text": [
      "SalePrice       755000.0\n",
      "OverallQual         10.0\n",
      "1stFlrSF          3228.0\n",
      "TotRmsAbvGrd        14.0\n",
      "YearBuilt         2010.0\n",
      "LotFrontage        313.0\n",
      "dtype: float64\n"
     ]
    }
   ],
   "source": [
    "print(valor_max)"
   ]
  },
  {
   "attachments": {},
   "cell_type": "markdown",
   "id": "b2b5d2a8",
   "metadata": {},
   "source": [
    "##### VALOR MINIMO\n"
   ]
  },
  {
   "cell_type": "code",
   "execution_count": 60,
   "id": "9e3e7162",
   "metadata": {},
   "outputs": [
    {
     "name": "stdout",
     "output_type": "stream",
     "text": [
      "SalePrice       34900.0\n",
      "OverallQual         1.0\n",
      "1stFlrSF          334.0\n",
      "TotRmsAbvGrd        2.0\n",
      "YearBuilt        1875.0\n",
      "LotFrontage        21.0\n",
      "dtype: float64\n"
     ]
    }
   ],
   "source": [
    "print(valor_min)"
   ]
  },
  {
   "attachments": {},
   "cell_type": "markdown",
   "id": "07868cd5",
   "metadata": {},
   "source": [
    "##### RANGO PTP"
   ]
  },
  {
   "cell_type": "code",
   "execution_count": 61,
   "id": "88a45db0",
   "metadata": {},
   "outputs": [
    {
     "name": "stdout",
     "output_type": "stream",
     "text": [
      "SalePrice       720100.0\n",
      "OverallQual          9.0\n",
      "1stFlrSF          2894.0\n",
      "TotRmsAbvGrd        12.0\n",
      "YearBuilt          135.0\n",
      "LotFrontage        292.0\n",
      "dtype: float64\n"
     ]
    }
   ],
   "source": [
    "print(rango)"
   ]
  },
  {
   "attachments": {},
   "cell_type": "markdown",
   "id": "26583200",
   "metadata": {},
   "source": [
    "##### DESVIACION ESTANDAR"
   ]
  },
  {
   "cell_type": "code",
   "execution_count": 62,
   "id": "23877d5d",
   "metadata": {},
   "outputs": [
    {
     "name": "stdout",
     "output_type": "stream",
     "text": [
      "SalePrice       78815.697902\n",
      "OverallQual         1.378025\n",
      "1stFlrSF          373.780374\n",
      "TotRmsAbvGrd        1.609141\n",
      "YearBuilt          29.951707\n",
      "LotFrontage        23.478161\n",
      "dtype: float64\n"
     ]
    }
   ],
   "source": [
    "print(desviacion_estandar)"
   ]
  },
  {
   "attachments": {},
   "cell_type": "markdown",
   "id": "731260e6",
   "metadata": {},
   "source": [
    "#### Numero 4\n",
    "Para cada variable en el dataset usar seaborn(funcion distplot https://seaborn.pydata.org/generated/seaborn.distplot.html) para graficar un histograma de la variable.\n",
    "\n",
    "- Nota: Se utilizo histplot, ya que segun la documentacion distplot ha dejado de utilizarse\n"
   ]
  },
  {
   "attachments": {},
   "cell_type": "markdown",
   "id": "23b38b2c",
   "metadata": {},
   "source": [
    "Variable SalePrice"
   ]
  },
  {
   "cell_type": "code",
   "execution_count": 81,
   "id": "59bb67a6",
   "metadata": {},
   "outputs": [
    {
     "data": {
      "text/plain": [
       "<AxesSubplot:xlabel='SalePrice', ylabel='Count'>"
      ]
     },
     "execution_count": 81,
     "metadata": {},
     "output_type": "execute_result"
    },
    {
     "data": {
      "image/png": "[encoded data removed]",
      "text/plain": [
       "<Figure size 640x480 with 1 Axes>"
      ]
     },
     "metadata": {},
     "output_type": "display_data"
    }
   ],
   "source": [
    "sb.histplot(data=entrenamiento, x=\"SalePrice\")"
   ]
  },
  {
   "attachments": {},
   "cell_type": "markdown",
   "id": "44a63daa",
   "metadata": {},
   "source": [
    "Variable OverallQual"
   ]
  },
  {
   "cell_type": "code",
   "execution_count": 82,
   "id": "51cb4cd6",
   "metadata": {},
   "outputs": [
    {
     "data": {
      "text/plain": [
       "<AxesSubplot:xlabel='OverallQual', ylabel='Count'>"
      ]
     },
     "execution_count": 82,
     "metadata": {},
     "output_type": "execute_result"
    },
    {
     "data": {
      "image/png": "[encoded data removed]",
      "text/plain": [
       "<Figure size 640x480 with 1 Axes>"
      ]
     },
     "metadata": {},
     "output_type": "display_data"
    }
   ],
   "source": [
    "sb.histplot(data=entrenamiento, x=\"OverallQual\")"
   ]
  },
  {
   "attachments": {},
   "cell_type": "markdown",
   "id": "99ff34a0",
   "metadata": {},
   "source": [
    "Variable 1stFlrSF"
   ]
  },
  {
   "cell_type": "code",
   "execution_count": 83,
   "id": "351bddbb",
   "metadata": {},
   "outputs": [
    {
     "data": {
      "text/plain": [
       "<AxesSubplot:xlabel='1stFlrSF', ylabel='Count'>"
      ]
     },
     "execution_count": 83,
     "metadata": {},
     "output_type": "execute_result"
    },
    {
     "data": {
      "image/png": "[encoded data removed]",
      "text/plain": [
       "<Figure size 640x480 with 1 Axes>"
      ]
     },
     "metadata": {},
     "output_type": "display_data"
    }
   ],
   "source": [
    "sb.histplot(data=entrenamiento, x=\"1stFlrSF\")"
   ]
  },
  {
   "attachments": {},
   "cell_type": "markdown",
   "id": "da440241",
   "metadata": {},
   "source": [
    "Variable TotRmsAbvGrd"
   ]
  },
  {
   "cell_type": "code",
   "execution_count": 84,
   "id": "e06d8ece",
   "metadata": {},
   "outputs": [
    {
     "data": {
      "text/plain": [
       "<AxesSubplot:xlabel='TotRmsAbvGrd', ylabel='Count'>"
      ]
     },
     "execution_count": 84,
     "metadata": {},
     "output_type": "execute_result"
    },
    {
     "data": {
      "image/png": "[encoded data removed]",
      "text/plain": [
       "<Figure size 640x480 with 1 Axes>"
      ]
     },
     "metadata": {},
     "output_type": "display_data"
    }
   ],
   "source": [
    "sb.histplot(data=entrenamiento, x=\"TotRmsAbvGrd\")"
   ]
  },
  {
   "attachments": {},
   "cell_type": "markdown",
   "id": "228ec831",
   "metadata": {},
   "source": [
    "Variable YearBuilt"
   ]
  },
  {
   "cell_type": "code",
   "execution_count": 85,
   "id": "5ade3613",
   "metadata": {},
   "outputs": [
    {
     "data": {
      "text/plain": [
       "<AxesSubplot:xlabel='YearBuilt', ylabel='Count'>"
      ]
     },
     "execution_count": 85,
     "metadata": {},
     "output_type": "execute_result"
    },
    {
     "data": {
      "image/png": "[encoded data removed]",
      "text/plain": [
       "<Figure size 640x480 with 1 Axes>"
      ]
     },
     "metadata": {},
     "output_type": "display_data"
    }
   ],
   "source": [
    "sb.histplot(data=entrenamiento, x=\"YearBuilt\")"
   ]
  },
  {
   "attachments": {},
   "cell_type": "markdown",
   "id": "ca07445a",
   "metadata": {},
   "source": [
    "Variable LotFrontage"
   ]
  },
  {
   "cell_type": "code",
   "execution_count": 86,
   "id": "61e586ba",
   "metadata": {},
   "outputs": [
    {
     "data": {
      "text/plain": [
       "<AxesSubplot:xlabel='LotFrontage', ylabel='Count'>"
      ]
     },
     "execution_count": 86,
     "metadata": {},
     "output_type": "execute_result"
    },
    {
     "data": {
      "image/png": "[encoded data removed]",
      "text/plain": [
       "<Figure size 640x480 with 1 Axes>"
      ]
     },
     "metadata": {},
     "output_type": "display_data"
    }
   ],
   "source": [
    "sb.histplot(data=entrenamiento, x=\"LotFrontage\")"
   ]
  },
  {
   "attachments": {},
   "cell_type": "markdown",
   "id": "2038459d",
   "metadata": {},
   "source": [
    "d"
   ]
  },
  {
   "cell_type": "code",
   "execution_count": 97,
   "id": "bcf22464",
   "metadata": {},
   "outputs": [
    {
     "data": {
      "text/html": [
       "<div>\n",
       "<style scoped>\n",
       "    .dataframe tbody tr th:only-of-type {\n",
       "        vertical-align: middle;\n",
       "    }\n",
       "\n",
       "    .dataframe tbody tr th {\n",
       "        vertical-align: top;\n",
       "    }\n",
       "\n",
       "    .dataframe thead th {\n",
       "        text-align: right;\n",
       "    }\n",
       "</style>\n",
       "<table border=\"1\" class=\"dataframe\">\n",
       "  <thead>\n",
       "    <tr style=\"text-align: right;\">\n",
       "      <th></th>\n",
       "      <th>SalePrice</th>\n",
       "      <th>OverallQual</th>\n",
       "      <th>1stFlrSF</th>\n",
       "      <th>TotRmsAbvGrd</th>\n",
       "      <th>YearBuilt</th>\n",
       "      <th>LotFrontage</th>\n",
       "    </tr>\n",
       "  </thead>\n",
       "  <tbody>\n",
       "    <tr>\n",
       "      <th>SalePrice</th>\n",
       "      <td>1.000000</td>\n",
       "      <td>0.793990</td>\n",
       "      <td>0.616289</td>\n",
       "      <td>0.564707</td>\n",
       "      <td>0.534171</td>\n",
       "      <td>0.363292</td>\n",
       "    </tr>\n",
       "    <tr>\n",
       "      <th>OverallQual</th>\n",
       "      <td>0.793990</td>\n",
       "      <td>1.000000</td>\n",
       "      <td>0.469411</td>\n",
       "      <td>0.444293</td>\n",
       "      <td>0.567313</td>\n",
       "      <td>0.242420</td>\n",
       "    </tr>\n",
       "    <tr>\n",
       "      <th>1stFlrSF</th>\n",
       "      <td>0.616289</td>\n",
       "      <td>0.469411</td>\n",
       "      <td>1.000000</td>\n",
       "      <td>0.409318</td>\n",
       "      <td>0.292074</td>\n",
       "      <td>0.417388</td>\n",
       "    </tr>\n",
       "    <tr>\n",
       "      <th>TotRmsAbvGrd</th>\n",
       "      <td>0.564707</td>\n",
       "      <td>0.444293</td>\n",
       "      <td>0.409318</td>\n",
       "      <td>1.000000</td>\n",
       "      <td>0.122911</td>\n",
       "      <td>0.341005</td>\n",
       "    </tr>\n",
       "    <tr>\n",
       "      <th>YearBuilt</th>\n",
       "      <td>0.534171</td>\n",
       "      <td>0.567313</td>\n",
       "      <td>0.292074</td>\n",
       "      <td>0.122911</td>\n",
       "      <td>1.000000</td>\n",
       "      <td>0.121474</td>\n",
       "    </tr>\n",
       "    <tr>\n",
       "      <th>LotFrontage</th>\n",
       "      <td>0.363292</td>\n",
       "      <td>0.242420</td>\n",
       "      <td>0.417388</td>\n",
       "      <td>0.341005</td>\n",
       "      <td>0.121474</td>\n",
       "      <td>1.000000</td>\n",
       "    </tr>\n",
       "  </tbody>\n",
       "</table>\n",
       "</div>"
      ],
      "text/plain": [
       "              SalePrice  OverallQual  1stFlrSF  TotRmsAbvGrd  YearBuilt  \\\n",
       "SalePrice      1.000000     0.793990  0.616289      0.564707   0.534171   \n",
       "OverallQual    0.793990     1.000000  0.469411      0.444293   0.567313   \n",
       "1stFlrSF       0.616289     0.469411  1.000000      0.409318   0.292074   \n",
       "TotRmsAbvGrd   0.564707     0.444293  0.409318      1.000000   0.122911   \n",
       "YearBuilt      0.534171     0.567313  0.292074      0.122911   1.000000   \n",
       "LotFrontage    0.363292     0.242420  0.417388      0.341005   0.121474   \n",
       "\n",
       "              LotFrontage  \n",
       "SalePrice        0.363292  \n",
       "OverallQual      0.242420  \n",
       "1stFlrSF         0.417388  \n",
       "TotRmsAbvGrd     0.341005  \n",
       "YearBuilt        0.121474  \n",
       "LotFrontage      1.000000  "
      ]
     },
     "execution_count": 97,
     "metadata": {},
     "output_type": "execute_result"
    }
   ],
   "source": [
    "entrenamiento.corr()"
   ]
  },
  {
   "cell_type": "code",
   "execution_count": 107,
   "id": "232ac4cd",
   "metadata": {},
   "outputs": [
    {
     "ename": "AttributeError",
     "evalue": "'numpy.ndarray' object has no attribute 'scatter'",
     "output_type": "error",
     "traceback": [
      "\u001b[1;31m---------------------------------------------------------------------------\u001b[0m",
      "\u001b[1;31mAttributeError\u001b[0m                            Traceback (most recent call last)",
      "\u001b[1;32m~\\AppData\\Local\\Temp\\ipykernel_44064\\886361918.py\u001b[0m in \u001b[0;36m<module>\u001b[1;34m\u001b[0m\n\u001b[0;32m      5\u001b[0m         \u001b[1;32mif\u001b[0m \u001b[0mx_col_name\u001b[0m \u001b[1;33m==\u001b[0m \u001b[0my_col_name\u001b[0m\u001b[1;33m:\u001b[0m\u001b[1;33m\u001b[0m\u001b[1;33m\u001b[0m\u001b[0m\n\u001b[0;32m      6\u001b[0m             \u001b[1;32mcontinue\u001b[0m  \u001b[1;31m# saltar si x e y son la misma columna\u001b[0m\u001b[1;33m\u001b[0m\u001b[1;33m\u001b[0m\u001b[0m\n\u001b[1;32m----> 7\u001b[1;33m         \u001b[0maxes\u001b[0m\u001b[1;33m[\u001b[0m\u001b[0mi\u001b[0m\u001b[1;33m]\u001b[0m\u001b[1;33m.\u001b[0m\u001b[0mscatter\u001b[0m\u001b[1;33m(\u001b[0m\u001b[0mx_col_data\u001b[0m\u001b[1;33m,\u001b[0m \u001b[0my_col_data\u001b[0m\u001b[1;33m,\u001b[0m \u001b[0mlabel\u001b[0m\u001b[1;33m=\u001b[0m\u001b[1;34mf'{x_col_name} vs {y_col_name}'\u001b[0m\u001b[1;33m)\u001b[0m\u001b[1;33m\u001b[0m\u001b[1;33m\u001b[0m\u001b[0m\n\u001b[0m\u001b[0;32m      8\u001b[0m         \u001b[0maxes\u001b[0m\u001b[1;33m[\u001b[0m\u001b[0mi\u001b[0m\u001b[1;33m]\u001b[0m\u001b[1;33m.\u001b[0m\u001b[0mset_xlabel\u001b[0m\u001b[1;33m(\u001b[0m\u001b[1;34m'x'\u001b[0m\u001b[1;33m)\u001b[0m\u001b[1;33m\u001b[0m\u001b[1;33m\u001b[0m\u001b[0m\n\u001b[0;32m      9\u001b[0m         \u001b[0maxes\u001b[0m\u001b[1;33m[\u001b[0m\u001b[0mi\u001b[0m\u001b[1;33m]\u001b[0m\u001b[1;33m.\u001b[0m\u001b[0mset_ylabel\u001b[0m\u001b[1;33m(\u001b[0m\u001b[1;34m'y'\u001b[0m\u001b[1;33m)\u001b[0m\u001b[1;33m\u001b[0m\u001b[1;33m\u001b[0m\u001b[0m\n",
      "\u001b[1;31mAttributeError\u001b[0m: 'numpy.ndarray' object has no attribute 'scatter'"
     ]
    },
    {
     "data": {
      "image/png": "[encoded data removed]",
      "text/plain": [
       "<Figure size 1500x500 with 120 Axes>"
      ]
     },
     "metadata": {},
     "output_type": "display_data"
    }
   ],
   "source": [
    "fig, axes = plt.subplots(nrows=6, ncols=5, figsize=(15, 5))\n",
    "i=0\n",
    "for x_col_name, x_col_data in entrenamiento.iteritems():\n",
    "    j=0\n",
    "    for y_col_name, y_col_data in entrenamiento.iteritems():\n",
    "        if x_col_name == y_col_name:\n",
    "            continue  # saltar si x e y son la misma columna\n",
    "        axes[i].scatter(x_col_data, y_col_data, label=f'{x_col_name} vs {y_col_name}')\n",
    "        axes[i].set_xlabel('x')\n",
    "        axes[i].set_ylabel('y')\n",
    "        axes[i].legend()\n",
    "        i=i+1\n",
    "    i = i+1\n",
    "fig.show()"
   ]
  }
 ],
 "metadata": {
  "kernelspec": {
   "display_name": "Python 3 (ipykernel)",
   "language": "python",
   "name": "python3"
  },
  "language_info": {
   "codemirror_mode": {
    "name": "ipython",
    "version": 3
   },
   "file_extension": ".py",
   "mimetype": "text/x-python",
   "name": "python",
   "nbconvert_exporter": "python",
   "pygments_lexer": "ipython3",
   "version": "3.7.16"
  }
 },
 "nbformat": 4,
 "nbformat_minor": 5
}
