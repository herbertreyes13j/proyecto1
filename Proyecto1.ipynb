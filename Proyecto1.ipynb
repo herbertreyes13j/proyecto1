{
 "cells": [
  {
   "attachments": {},
   "cell_type": "markdown",
   "id": "9b0198cf",
   "metadata": {},
   "source": [
    "### Herbert Rafael Reyes Portillo\n",
    "### Carnet: 23002116\n",
    "\n",
    "# Proyecto 1"
   ]
  },
  {
   "attachments": {},
   "cell_type": "markdown",
   "id": "6b3d0f42",
   "metadata": {},
   "source": [
    "### 2. Usando sclicing con NumPy separar los datos en 2 datasets: entrenamiento(80 %) y validacion y pruebas(20 %)."
   ]
  },
  {
   "cell_type": "code",
   "execution_count": 49,
   "id": "2c39389a",
   "metadata": {},
   "outputs": [],
   "source": [
    "import numpy as np\n",
    "import pandas as pd\n",
    "\n",
    "data = np.array(np.load('./Datos/proyecto_training_data.npy'))\n",
    "dfbase= pd.DataFrame(data,columns=['SalePrice','OverallQual','1stFlrSF','TotRmsAbvGrd','YearBuilt','LotFrontage'])\n",
    "entrenamiento=dfbase.iloc[0:1168]\n",
    "base = dfbase.iloc[1168:1460]\n"
   ]
  }
 ],
 "metadata": {
  "kernelspec": {
   "display_name": "Python 3 (ipykernel)",
   "language": "python",
   "name": "python3"
  },
  "language_info": {
   "codemirror_mode": {
    "name": "ipython",
    "version": 3
   },
   "file_extension": ".py",
   "mimetype": "text/x-python",
   "name": "python",
   "nbconvert_exporter": "python",
   "pygments_lexer": "ipython3",
   "version": "3.7.16"
  }
 },
 "nbformat": 4,
 "nbformat_minor": 5
}
